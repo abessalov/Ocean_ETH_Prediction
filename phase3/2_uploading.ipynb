{
 "cells": [
  {
   "cell_type": "markdown",
   "id": "e2dae197-c743-490e-a6a2-4aec4c27b669",
   "metadata": {},
   "source": [
    "### 1. Upload file to arweave"
   ]
  },
  {
   "cell_type": "code",
   "execution_count": null,
   "id": "7ff8fa43-6930-43a7-98c8-c53c027fe975",
   "metadata": {},
   "outputs": [],
   "source": [
    "from helpers import *"
   ]
  },
  {
   "cell_type": "code",
   "execution_count": null,
   "id": "32cabd72-9f40-45d2-92f2-faa0e4b7c71c",
   "metadata": {},
   "outputs": [],
   "source": [
    "FILE_NAME = '../files/eth_predict.csv'"
   ]
  },
  {
   "cell_type": "code",
   "execution_count": null,
   "id": "5ae8aeeb-f8fe-4683-ab61-22bfac569ff8",
   "metadata": {},
   "outputs": [],
   "source": [
    "ocean = create_ocean_instance(\"polygon-main\")\n",
    "\n",
    "alice = create_alice_wallet(ocean)\n",
    "\n",
    "# Put the file online\n",
    "from pybundlr import pybundlr\n",
    "url = pybundlr.fund_and_upload(FILE_NAME, \"matic\", alice.private_key)\n",
    "print(f\"Your csv url: {url}\")"
   ]
  },
  {
   "cell_type": "markdown",
   "id": "e43c10b7-c571-47fc-ab78-62fff3897adb",
   "metadata": {},
   "source": [
    "### 2. Share predictions"
   ]
  },
  {
   "cell_type": "code",
   "execution_count": null,
   "id": "5841dc2c-6975-48ae-9afe-e9b647595682",
   "metadata": {},
   "outputs": [],
   "source": [
    "# Publish Ocean asset\n",
    "import time\n",
    "name = \"ETH predictions\" + str(time.time())\n",
    "(data_nft, datatoken, ddo) = ocean.assets.create_url_asset(name, url, {\"from\":alice}, wait_for_aqua=False)\n",
    "metadata_state = 5\n",
    "data_nft.setMetaDataState(metadata_state, {\"from\":alice})\n",
    "print(f\"New asset created, with did={ddo.did}, and datatoken.address={datatoken.address}\")"
   ]
  },
  {
   "cell_type": "code",
   "execution_count": null,
   "id": "72585efe-5a88-4b71-88a9-6f96102e294c",
   "metadata": {},
   "outputs": [],
   "source": [
    "# Share predictions to judges\n",
    "from web3.main import Web3\n",
    "to_address=\"0xA54ABd42b11B7C97538CAD7C6A2820419ddF703E\" #official judges address\n",
    "datatoken.mint(to_address, Web3.toWei(10, \"ether\"), {\"from\": alice})"
   ]
  },
  {
   "cell_type": "code",
   "execution_count": null,
   "id": "d8f78d7f-3dfa-4daa-9a0c-0d2bec5e3722",
   "metadata": {},
   "outputs": [],
   "source": []
  }
 ],
 "metadata": {
  "kernelspec": {
   "display_name": "Python 3",
   "language": "python",
   "name": "python3"
  },
  "language_info": {
   "codemirror_mode": {
    "name": "ipython",
    "version": 3
   },
   "file_extension": ".py",
   "mimetype": "text/x-python",
   "name": "python",
   "nbconvert_exporter": "python",
   "pygments_lexer": "ipython3",
   "version": "3.8.5"
  }
 },
 "nbformat": 4,
 "nbformat_minor": 5
}
