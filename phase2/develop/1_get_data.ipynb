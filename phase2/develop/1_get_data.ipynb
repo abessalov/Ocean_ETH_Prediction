{
 "cells": [
  {
   "cell_type": "markdown",
   "metadata": {},
   "source": [
    "### Read datasets"
   ]
  },
  {
   "cell_type": "code",
   "execution_count": 1,
   "metadata": {
    "tags": []
   },
   "outputs": [
    {
     "name": "stdout",
     "output_type": "stream",
     "text": [
      "[*********************100%***********************]  1 of 1 completed\n",
      "(16784, 6)\n"
     ]
    },
    {
     "data": {
      "text/html": [
       "<div>\n",
       "<style scoped>\n",
       "    .dataframe tbody tr th:only-of-type {\n",
       "        vertical-align: middle;\n",
       "    }\n",
       "\n",
       "    .dataframe tbody tr th {\n",
       "        vertical-align: top;\n",
       "    }\n",
       "\n",
       "    .dataframe thead th {\n",
       "        text-align: right;\n",
       "    }\n",
       "</style>\n",
       "<table border=\"1\" class=\"dataframe\">\n",
       "  <thead>\n",
       "    <tr style=\"text-align: right;\">\n",
       "      <th></th>\n",
       "      <th>Open</th>\n",
       "      <th>High</th>\n",
       "      <th>Low</th>\n",
       "      <th>Close</th>\n",
       "      <th>Adj Close</th>\n",
       "      <th>Volume</th>\n",
       "    </tr>\n",
       "  </thead>\n",
       "  <tbody>\n",
       "    <tr>\n",
       "      <th>2022-12-10 16:00:00+00:00</th>\n",
       "      <td>1,277.03</td>\n",
       "      <td>1,279.53</td>\n",
       "      <td>1,274.90</td>\n",
       "      <td>1,274.90</td>\n",
       "      <td>1,274.90</td>\n",
       "      <td>45010688</td>\n",
       "    </tr>\n",
       "    <tr>\n",
       "      <th>2022-12-10 17:00:00+00:00</th>\n",
       "      <td>1,274.92</td>\n",
       "      <td>1,275.43</td>\n",
       "      <td>1,269.79</td>\n",
       "      <td>1,269.79</td>\n",
       "      <td>1,269.79</td>\n",
       "      <td>0</td>\n",
       "    </tr>\n",
       "    <tr>\n",
       "      <th>2022-12-10 18:00:00+00:00</th>\n",
       "      <td>1,269.75</td>\n",
       "      <td>1,272.42</td>\n",
       "      <td>1,269.29</td>\n",
       "      <td>1,272.34</td>\n",
       "      <td>1,272.34</td>\n",
       "      <td>0</td>\n",
       "    </tr>\n",
       "    <tr>\n",
       "      <th>2022-12-10 19:00:00+00:00</th>\n",
       "      <td>1,272.41</td>\n",
       "      <td>1,273.44</td>\n",
       "      <td>1,271.73</td>\n",
       "      <td>1,272.35</td>\n",
       "      <td>1,272.35</td>\n",
       "      <td>0</td>\n",
       "    </tr>\n",
       "    <tr>\n",
       "      <th>2022-12-10 20:00:00+00:00</th>\n",
       "      <td>1,272.28</td>\n",
       "      <td>1,273.16</td>\n",
       "      <td>1,271.80</td>\n",
       "      <td>1,272.76</td>\n",
       "      <td>1,272.76</td>\n",
       "      <td>0</td>\n",
       "    </tr>\n",
       "  </tbody>\n",
       "</table>\n",
       "</div>"
      ],
      "text/plain": [
       "                              Open     High      Low    Close  Adj Close  \\\n",
       "2022-12-10 16:00:00+00:00 1,277.03 1,279.53 1,274.90 1,274.90   1,274.90   \n",
       "2022-12-10 17:00:00+00:00 1,274.92 1,275.43 1,269.79 1,269.79   1,269.79   \n",
       "2022-12-10 18:00:00+00:00 1,269.75 1,272.42 1,269.29 1,272.34   1,272.34   \n",
       "2022-12-10 19:00:00+00:00 1,272.41 1,273.44 1,271.73 1,272.35   1,272.35   \n",
       "2022-12-10 20:00:00+00:00 1,272.28 1,273.16 1,271.80 1,272.76   1,272.76   \n",
       "\n",
       "                             Volume  \n",
       "2022-12-10 16:00:00+00:00  45010688  \n",
       "2022-12-10 17:00:00+00:00         0  \n",
       "2022-12-10 18:00:00+00:00         0  \n",
       "2022-12-10 19:00:00+00:00         0  \n",
       "2022-12-10 20:00:00+00:00         0  "
      ]
     },
     "execution_count": 1,
     "metadata": {},
     "output_type": "execute_result"
    }
   ],
   "source": [
    "# Read data from Yfinance\n",
    "import yfinance as yf\n",
    "list_tick1 = ['ETH-USD']\n",
    "df1 = yf.download(list_tick1,  start = \"2021-01-01\" , end = \"2022-12-11\", interval = '1h')\n",
    "\n",
    "print(df1.shape)\n",
    "df1[-5:]"
   ]
  },
  {
   "cell_type": "code",
   "execution_count": 2,
   "metadata": {},
   "outputs": [
    {
     "name": "stdout",
     "output_type": "stream",
     "text": [
      "(1000, 6)\n"
     ]
    },
    {
     "data": {
      "text/html": [
       "<div>\n",
       "<style scoped>\n",
       "    .dataframe tbody tr th:only-of-type {\n",
       "        vertical-align: middle;\n",
       "    }\n",
       "\n",
       "    .dataframe tbody tr th {\n",
       "        vertical-align: top;\n",
       "    }\n",
       "\n",
       "    .dataframe thead th {\n",
       "        text-align: right;\n",
       "    }\n",
       "</style>\n",
       "<table border=\"1\" class=\"dataframe\">\n",
       "  <thead>\n",
       "    <tr style=\"text-align: right;\">\n",
       "      <th></th>\n",
       "      <th>dt1</th>\n",
       "      <th>open</th>\n",
       "      <th>high</th>\n",
       "      <th>low</th>\n",
       "      <th>close</th>\n",
       "      <th>volume</th>\n",
       "    </tr>\n",
       "  </thead>\n",
       "  <tbody>\n",
       "    <tr>\n",
       "      <th>997</th>\n",
       "      <td>2022-12-11 10:00:00</td>\n",
       "      <td>1,271.99</td>\n",
       "      <td>1,273.70</td>\n",
       "      <td>1,271.08</td>\n",
       "      <td>1,272.79</td>\n",
       "      <td>4,741.53</td>\n",
       "    </tr>\n",
       "    <tr>\n",
       "      <th>998</th>\n",
       "      <td>2022-12-11 11:00:00</td>\n",
       "      <td>1,272.79</td>\n",
       "      <td>1,273.62</td>\n",
       "      <td>1,271.13</td>\n",
       "      <td>1,273.45</td>\n",
       "      <td>4,095.57</td>\n",
       "    </tr>\n",
       "    <tr>\n",
       "      <th>999</th>\n",
       "      <td>2022-12-11 12:00:00</td>\n",
       "      <td>1,273.44</td>\n",
       "      <td>1,273.75</td>\n",
       "      <td>1,271.72</td>\n",
       "      <td>1,272.78</td>\n",
       "      <td>2,080.20</td>\n",
       "    </tr>\n",
       "  </tbody>\n",
       "</table>\n",
       "</div>"
      ],
      "text/plain": [
       "                    dt1     open     high      low    close   volume\n",
       "997 2022-12-11 10:00:00 1,271.99 1,273.70 1,271.08 1,272.79 4,741.53\n",
       "998 2022-12-11 11:00:00 1,272.79 1,273.62 1,271.13 1,273.45 4,095.57\n",
       "999 2022-12-11 12:00:00 1,273.44 1,273.75 1,271.72 1,272.78 2,080.20"
      ]
     },
     "execution_count": 2,
     "metadata": {},
     "output_type": "execute_result"
    }
   ],
   "source": [
    "# Read data from cexa\n",
    "url = 'https://cexa.oceanprotocol.io/ohlc?exchange=binance&pair=ETH/USDT&period=1h'\n",
    "df = pd.read_json(url)\n",
    "df.columns = ['dt1','open','high','low','close','volume']\n",
    "# convert to UTC+0\n",
    "a = [dt.fromtimestamp(x/1000) - relativedelta(hours=3) for x in df.dt1]\n",
    "df['dt1'] = a\n",
    "\n",
    "print(df.shape)\n",
    "df[-3:]"
   ]
  },
  {
   "cell_type": "markdown",
   "metadata": {},
   "source": [
    "### Comparing"
   ]
  },
  {
   "cell_type": "code",
   "execution_count": 8,
   "metadata": {},
   "outputs": [
    {
     "data": {
      "image/png": "[encoded data removed]",
      "text/plain": [
       "<Figure size 720x288 with 1 Axes>"
      ]
     },
     "metadata": {},
     "output_type": "display_data"
    }
   ],
   "source": [
    "# USD is not USDT but very similar\n",
    "plt.style.use('bmh')\n",
    "_ = df.set_index('dt1')[-300:].close.plot(figsize = (10,4), title = 'ETH Close prices')\n",
    "_ = df1.Close[-300:].plot(figsize = (10,4))\n",
    "_ = plt.legend(['ETH/USDT','ETH/USD'])"
   ]
  },
  {
   "cell_type": "markdown",
   "metadata": {},
   "source": [
    "### Prophet model to eliminate trends and seasons"
   ]
  },
  {
   "cell_type": "code",
   "execution_count": 4,
   "metadata": {},
   "outputs": [
    {
     "name": "stderr",
     "output_type": "stream",
     "text": [
      "INFO:prophet:Disabling yearly seasonality. Run prophet with yearly_seasonality=True to override this.\n",
      "INFO:cmdstanpy:start chain 1\n",
      "INFO:cmdstanpy:finish chain 1\n"
     ]
    },
    {
     "name": "stdout",
     "output_type": "stream",
     "text": [
      "(16784, 8)\n"
     ]
    },
    {
     "data": {
      "text/html": [
       "<div>\n",
       "<style scoped>\n",
       "    .dataframe tbody tr th:only-of-type {\n",
       "        vertical-align: middle;\n",
       "    }\n",
       "\n",
       "    .dataframe tbody tr th {\n",
       "        vertical-align: top;\n",
       "    }\n",
       "\n",
       "    .dataframe thead th {\n",
       "        text-align: right;\n",
       "    }\n",
       "</style>\n",
       "<table border=\"1\" class=\"dataframe\">\n",
       "  <thead>\n",
       "    <tr style=\"text-align: right;\">\n",
       "      <th></th>\n",
       "      <th>Open</th>\n",
       "      <th>High</th>\n",
       "      <th>Low</th>\n",
       "      <th>Close</th>\n",
       "      <th>Adj Close</th>\n",
       "      <th>Volume</th>\n",
       "      <th>Close_pred</th>\n",
       "      <th>Close_diff</th>\n",
       "    </tr>\n",
       "  </thead>\n",
       "  <tbody>\n",
       "    <tr>\n",
       "      <th>2022-12-10 16:00:00</th>\n",
       "      <td>1,277.03</td>\n",
       "      <td>1,279.53</td>\n",
       "      <td>1,274.90</td>\n",
       "      <td>1,274.90</td>\n",
       "      <td>1,274.90</td>\n",
       "      <td>45010688</td>\n",
       "      <td>1,210.79</td>\n",
       "      <td>64.11</td>\n",
       "    </tr>\n",
       "    <tr>\n",
       "      <th>2022-12-10 17:00:00</th>\n",
       "      <td>1,274.92</td>\n",
       "      <td>1,275.43</td>\n",
       "      <td>1,269.79</td>\n",
       "      <td>1,269.79</td>\n",
       "      <td>1,269.79</td>\n",
       "      <td>0</td>\n",
       "      <td>1,210.51</td>\n",
       "      <td>59.28</td>\n",
       "    </tr>\n",
       "    <tr>\n",
       "      <th>2022-12-10 18:00:00</th>\n",
       "      <td>1,269.75</td>\n",
       "      <td>1,272.42</td>\n",
       "      <td>1,269.29</td>\n",
       "      <td>1,272.34</td>\n",
       "      <td>1,272.34</td>\n",
       "      <td>0</td>\n",
       "      <td>1,210.02</td>\n",
       "      <td>62.32</td>\n",
       "    </tr>\n",
       "    <tr>\n",
       "      <th>2022-12-10 19:00:00</th>\n",
       "      <td>1,272.41</td>\n",
       "      <td>1,273.44</td>\n",
       "      <td>1,271.73</td>\n",
       "      <td>1,272.35</td>\n",
       "      <td>1,272.35</td>\n",
       "      <td>0</td>\n",
       "      <td>1,209.66</td>\n",
       "      <td>62.69</td>\n",
       "    </tr>\n",
       "    <tr>\n",
       "      <th>2022-12-10 20:00:00</th>\n",
       "      <td>1,272.28</td>\n",
       "      <td>1,273.16</td>\n",
       "      <td>1,271.80</td>\n",
       "      <td>1,272.76</td>\n",
       "      <td>1,272.76</td>\n",
       "      <td>0</td>\n",
       "      <td>1,209.83</td>\n",
       "      <td>62.93</td>\n",
       "    </tr>\n",
       "  </tbody>\n",
       "</table>\n",
       "</div>"
      ],
      "text/plain": [
       "                        Open     High      Low    Close  Adj Close    Volume  \\\n",
       "2022-12-10 16:00:00 1,277.03 1,279.53 1,274.90 1,274.90   1,274.90  45010688   \n",
       "2022-12-10 17:00:00 1,274.92 1,275.43 1,269.79 1,269.79   1,269.79         0   \n",
       "2022-12-10 18:00:00 1,269.75 1,272.42 1,269.29 1,272.34   1,272.34         0   \n",
       "2022-12-10 19:00:00 1,272.41 1,273.44 1,271.73 1,272.35   1,272.35         0   \n",
       "2022-12-10 20:00:00 1,272.28 1,273.16 1,271.80 1,272.76   1,272.76         0   \n",
       "\n",
       "                     Close_pred  Close_diff  \n",
       "2022-12-10 16:00:00    1,210.79       64.11  \n",
       "2022-12-10 17:00:00    1,210.51       59.28  \n",
       "2022-12-10 18:00:00    1,210.02       62.32  \n",
       "2022-12-10 19:00:00    1,209.66       62.69  \n",
       "2022-12-10 20:00:00    1,209.83       62.93  "
      ]
     },
     "metadata": {},
     "output_type": "display_data"
    }
   ],
   "source": [
    "from prophet import Prophet\n",
    "df1.index = pd.to_datetime(df1.index.map(lambda x: str(x).split('+')[0]))\n",
    "\n",
    "# 1) prepare dataframe\n",
    "x = df1.Close\n",
    "x = x.reset_index()\n",
    "x.columns = ['ds','y']\n",
    "\n",
    "# 2) build model\n",
    "m = Prophet(weekly_seasonality=True, daily_seasonality=True, )\n",
    "m.fit(x)\n",
    "\n",
    "# 3) predict\n",
    "df_out = m.predict(x)\n",
    "df1['Close_pred'] = df_out.set_index('ds')['yhat']\n",
    "df1['Close_diff'] = df1.Close - df1.Close_pred\n",
    "\n",
    "print(df1.shape)\n",
    "display(df1[-5:])\n",
    "df1.to_pickle('../data/ETH_USD.pkl')"
   ]
  }
 ],
 "metadata": {
  "kernelspec": {
   "display_name": "Python 3",
   "language": "python",
   "name": "python3"
  },
  "language_info": {
   "codemirror_mode": {
    "name": "ipython",
    "version": 3
   },
   "file_extension": ".py",
   "mimetype": "text/x-python",
   "name": "python",
   "nbconvert_exporter": "python",
   "pygments_lexer": "ipython3",
   "version": "3.8.5"
  }
 },
 "nbformat": 4,
 "nbformat_minor": 4
}
